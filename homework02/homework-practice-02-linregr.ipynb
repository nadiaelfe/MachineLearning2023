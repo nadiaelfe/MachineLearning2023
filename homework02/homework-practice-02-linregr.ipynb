{
 "cells": [
  {
   "cell_type": "markdown",
   "metadata": {},
   "source": [
    "# Домашнее задание 2 - предобработка признаков, pandas\n",
    "\n",
    "\n",
    "### О задании\n",
    "\n",
    "Практическое задание 2 посвящено изучению основных библиотек для анализа данных, а также линейных моделей и методов их обучения. Вы научитесь:\n",
    " * применять библиотеки NumPy и Pandas для осуществления желаемых преобразований;\n",
    " * подготавливать данные для обучения линейных моделей;\n",
    " * обучать линейную, Lasso и Ridge-регрессии при помощи модуля scikit-learn;\n",
    " * реализовывать обычный и стохастический градиентные спуски;\n",
    " * обучать линейную регрессию для произвольного функционала качества.\n",
    " \n",
    "\n",
    "### Оценивание и штрафы\n",
    "\n",
    "Каждая из задач имеет определенную «стоимость» (указана в скобках около задачи). Максимально допустимая оценка за работу — 10 баллов. Кроме того, некоторые из заданий являются опциональными (необязательными), однако за их выполнение можно получить дополнительные баллы, которые позднее будут учитываться при проставлении оценок автоматом по курсу.\n",
    "\n",
    "Сдавать задание после указанного срока сдачи нельзя. При выставлении неполного балла за задание в связи с наличием ошибок на усмотрение проверяющего предусмотрена возможность исправить работу на указанных в ответном письме условиях.\n",
    "\n",
    "Задание выполняется самостоятельно. «Похожие» решения считаются плагиатом и все задействованные студенты (в том числе те, у кого списали) не могут получить за него больше 0 баллов. Если вы нашли решение какого-то из заданий (или его часть) в открытом источнике, необходимо указать ссылку на этот источник в отдельном блоке в конце Вашей работы (скорее всего вы будете не единственным, кто это нашел, поэтому чтобы исключить подозрение в плагиате, необходима ссылка на источник). \n",
    "\n",
    "Неэффективная реализация кода может негативно отразиться на оценке.\n",
    "\n",
    "\n",
    "### Формат сдачи\n",
    "Для сдачи задания получившийся файл \\*.ipynb с решением необходимо выложить в свой репозиторий github."
   ]
  },
  {
   "cell_type": "markdown",
   "metadata": {},
   "source": [
    "## Библиотеки для анализа данных\n",
    "\n",
    "### NumPy\n",
    "\n",
    "Во всех заданиях данного раздела запрещено использовать циклы  и list comprehensions. Под вектором и матрицей в данных заданиях понимается одномерный и двумерный numpy.array соответственно."
   ]
  },
  {
   "cell_type": "code",
   "execution_count": 1,
   "metadata": {},
   "outputs": [],
   "source": [
    "import numpy as np\n",
    "import pandas as pd\n",
    "import matplotlib"
   ]
  },
  {
   "cell_type": "code",
   "execution_count": 2,
   "metadata": {},
   "outputs": [],
   "source": [
    "%matplotlib inline\n",
    "import math\n",
    "from sklearn.preprocessing import StandardScaler, LabelEncoder\n",
    "from sklearn.model_selection import train_test_split, cross_val_score\n",
    "from sklearn.linear_model import LinearRegression, LogisticRegression\n",
    "from sklearn.metrics import mean_squared_error, accuracy_score, classification_report\n",
    "from sklearn.feature_extraction.text import CountVectorizer"
   ]
  },
  {
   "cell_type": "markdown",
   "metadata": {},
   "source": [
    "**1. (0.2 балла)** Реализуйте функцию, возвращающую максимальный элемент в векторе x среди элементов, перед которыми стоит нулевой. Для x = np.array([6, 2, 0, 3, 0, 0, 5, 7, 0]) ответом является 5. Если нулевых элементов нет, функция должна возвращать None.\n"
   ]
  },
  {
   "cell_type": "code",
   "execution_count": 3,
   "metadata": {},
   "outputs": [],
   "source": [
    "def max_element(arr):\n",
    "    modified = np.nonzero(a == 0)[0]\n",
    "    if not len(modified):\n",
    "        return None\n",
    "    modified += 1\n",
    "    if modified[-1] == len(arr):\n",
    "        modified = modified[:-1]\n",
    "    return np.amax(arr[modified])"
   ]
  },
  {
   "cell_type": "code",
   "execution_count": 4,
   "metadata": {},
   "outputs": [
    {
     "name": "stdout",
     "output_type": "stream",
     "text": [
      "1\n",
      "3\n",
      "5\n"
     ]
    }
   ],
   "source": [
    "for i in range(1, 6, 2):\n",
    "    print(i)\n"
   ]
  },
  {
   "cell_type": "markdown",
   "metadata": {},
   "source": [
    "**2. (0.2 балла)** Реализуйте функцию, принимающую на вход матрицу и некоторое число и возвращающую ближайший к числу элемент матрицы. Например: для X = np.arange(0,10).reshape((2, 5)) и v = 3.6 ответом будет 4."
   ]
  },
  {
   "cell_type": "code",
   "execution_count": 5,
   "metadata": {},
   "outputs": [],
   "source": [
    "def nearest_value(X, v):\n",
    "    Y = X - v\n",
    "    coordinate = np.argmin(np.absolute(Y))\n",
    "    return X.flatten()[coordinate]"
   ]
  },
  {
   "cell_type": "code",
   "execution_count": 6,
   "metadata": {},
   "outputs": [
    {
     "name": "stdout",
     "output_type": "stream",
     "text": [
      "-3\n"
     ]
    }
   ],
   "source": [
    "X = np.arange(-10,0).reshape((2, 5))\n",
    "v = -2.51\n",
    "print(nearest_value(X, v))"
   ]
  },
  {
   "cell_type": "markdown",
   "metadata": {},
   "source": [
    "**3. (0.2 балла)** Реализуйте функцию scale(X), которая принимает на вход матрицу и масштабирует каждый ее столбец (вычитает выборочное среднее и делит на стандартное отклонение). Убедитесь, что в функции не будет происходить деления на ноль. Протестируйте на случайной матрице (для её генерации можно использовать, например, функцию [numpy.random.randint](http://docs.scipy.org/doc/numpy/reference/generated/numpy.random.randint.html))."
   ]
  },
  {
   "cell_type": "code",
   "execution_count": 7,
   "metadata": {},
   "outputs": [
    {
     "name": "stdout",
     "output_type": "stream",
     "text": [
      "[[ 5 62]\n",
      " [35 47]]\n",
      "[[-1.          3.5       ]\n",
      " [ 0.05263158  1.        ]]\n"
     ]
    }
   ],
   "source": [
    "def scale(X):\n",
    "    stds = X.std(axis=1)\n",
    "    if len(np.nonzero(stds==0)[0]):\n",
    "        return \"DIVISION BY ZERO!!!\"\n",
    "    means = X.mean(axis=1)\n",
    "    Y = X - means\n",
    "    Y /= stds\n",
    "    return Y\n",
    "\n",
    "sample_matrix = np.array([np.random.randint(0, 100, 2) for i in range(2)])\n",
    "\n",
    "print(sample_matrix)\n",
    "print(scale(sample_matrix))"
   ]
  },
  {
   "cell_type": "markdown",
   "metadata": {},
   "source": [
    "**4. (0.2 балла)** Реализуйте функцию, которая для заданной матрицы находит:\n",
    " - определитель\n",
    " - след\n",
    " - наименьший и наибольший элементы\n",
    " - норму Фробениуса\n",
    " - собственные числа\n",
    " - обратную матрицу\n",
    "\n",
    "Для тестирования сгенерируйте матрицу с элементами из нормального распределения $\\mathcal{N}$(10,1)"
   ]
  },
  {
   "cell_type": "code",
   "execution_count": 8,
   "metadata": {},
   "outputs": [
    {
     "name": "stdout",
     "output_type": "stream",
     "text": [
      "[[10.34626959  8.96648535]\n",
      " [ 8.63008948 10.76094732]]\n",
      "DET:  33.9540912085276\n",
      "TRACE:  21.10721691606708\n",
      "MAX:  10.760947321777628\n",
      "MIN:  8.63008947574549\n",
      "MATRIX NORM:  19.435009279919452\n",
      "EIGENVALS:  [ 1.75448576 19.35273116]\n",
      "INVERSE:  [[ 0.31692638 -0.26407673]\n",
      " [-0.25416936  0.30471349]]\n"
     ]
    }
   ],
   "source": [
    "def get_stats(X):\n",
    "    print(\"DET: \", np.linalg.det(X))\n",
    "    print(\"TRACE: \", np.trace(X))\n",
    "    print(\"MAX: \", X.max())\n",
    "    print(\"MIN: \", X.min())\n",
    "    print(\"MATRIX NORM: \", np.linalg.norm(X))\n",
    "    print(\"EIGENVALS: \", np.linalg.eig(X)[0])\n",
    "    print(\"INVERSE: \", np.linalg.inv(X))\n",
    "    # Your code here\n",
    "    \n",
    "X = np.array([np.random.normal(10, 1, 2) for i in range(2)])\n",
    "print(X)\n",
    "get_stats(X)"
   ]
  },
  {
   "cell_type": "markdown",
   "metadata": {},
   "source": [
    "**5. (0.2 балла)** Повторите 100 раз следующий эксперимент: сгенерируйте две матрицы размера 10×10 из стандартного нормального распределения, перемножьте их (как матрицы) и найдите максимальный элемент. Какое среднее значение по экспериментам у максимальных элементов? 95-процентная квантиль?"
   ]
  },
  {
   "cell_type": "code",
   "execution_count": 9,
   "metadata": {},
   "outputs": [
    {
     "name": "stdout",
     "output_type": "stream",
     "text": [
      "MEAN:  8.573435562808339\n",
      "95% quantile:  12.487427337067274\n"
     ]
    }
   ],
   "source": [
    "max_vals = np.array([])\n",
    "for exp_num in range(100):\n",
    "    X = np.array([np.random.normal(0, 1, 10) for i in range(10)])\n",
    "    Y = np.array([np.random.normal(0, 1, 10) for i in range(10)])\n",
    "    max_vals = np.append(max_vals, [np.dot(X, Y).max()])\n",
    "\n",
    "print(\"MEAN: \", max_vals.mean())\n",
    "print(\"95% quantile: \", np.percentile(max_vals, 95))\n",
    "    "
   ]
  },
  {
   "cell_type": "markdown",
   "metadata": {},
   "source": [
    "### Pandas\n",
    "\n",
    "![](https://metrouk2.files.wordpress.com/2015/10/panda.jpg)\n",
    "\n",
    "#### Ответьте на вопросы о данных по авиарейсам в США за январь-апрель 2008 года.\n",
    "\n",
    "Данные находятся в приложенном файле `2008.csv`. Их [описание](http://stat-computing.org/dataexpo/2009/the-data.html) приведено ниже:"
   ]
  },
  {
   "cell_type": "markdown",
   "metadata": {},
   "source": [
    "Airline on-time performance\n",
    "\n",
    "Have you ever been stuck in an airport because your flight was delayed or cancelled and wondered if you could have predicted it if you'd had more data? This is your chance to find out.\n",
    "\n",
    "The data\n",
    "The data set is available for download here.\n",
    "The data consists of flight arrival and departure details for all commercial flights within the USA, from October 1987 to April 2008. This is a large dataset: there are nearly 120 million records in total, and takes up 1.6 gigabytes of space compressed and 12 gigabytes when uncompressed.\n",
    "\n",
    "Understanding and preparing the data\n",
    "In order to answer above questions, we are going to analyze the provided dataset, containing up to 1936758 ### different internal flights in the US for 2008 and their causes for delay, diversion and cancellation\n",
    "\n",
    "The data comes from the U.S. Department of Transportation’s (DOT) Bureau of Transportation Statistics (BTS). Meta data explanations\n",
    "\n",
    "This dataset is composed by the following variables:\n",
    "\n",
    "**Year** 2008 **Month** 1-12 **DayofMonth** 1-31 **DayOfWeek** 1 (Monday) - 7 (Sunday)  \n",
    "**DepTime** actual departure time (local, hhmm)  \n",
    "**CRSDepTime** scheduled departure time (local, hhmm)  \n",
    "**ArrTime** actual arrival time (local, hhmm)  \n",
    "**CRSArrTime** scheduled arrival time (local, hhmm)  \n",
    "**UniqueCarrier** unique carrier code  \n",
    "**FlightNum** flight number  \n",
    "**TailNum** plane tail number: aircraft registration, unique aircraft identifier  \n",
    "**ActualElapsedTime** in minutes  \n",
    "**CRSElapsedTime** in minutes  \n",
    "**AirTime** in minutes  \n",
    "**ArrDelay** arrival delay, in minutes: A flight is counted as “on time” if it operated less than 15 minutes later the scheduled time shown in the carriers’ Computerized Reservations Systems (CRS).  \n",
    "**DepDelay** departure delay, in minutes  \n",
    "**Origin** origin IATA airport code  \n",
    "**Dest** destination IATA airport code  \n",
    "**Distance** in miles  \n",
    "**TaxiIn** taxi in time, in minutes  \n",
    "**TaxiOut** taxi out time in minutes  \n",
    "**Cancelled** *was the flight cancelled  \n",
    "**CancellationCode** reason for cancellation (A = carrier, B = weather, C = NAS, D = security)  \n",
    "**Diverted** 1 = yes, 0 = no  \n",
    "**CarrierDelay** in minutes: Carrier delay is within the control of the air carrier. Examples of occurrences that may determine carrier delay are: aircraft cleaning, aircraft damage, awaiting the arrival of connecting passengers or crew, baggage, bird strike, cargo loading, catering, computer, outage-carrier equipment, crew legality (pilot or attendant rest), damage by hazardous goods, engineering inspection, fueling, handling disabled passengers, late crew, lavatory servicing, maintenance, oversales, potable water servicing, removal of unruly passenger, slow boarding or seating, stowing carry-on baggage, weight and balance delays.  \n",
    "**WeatherDelay** in minutes: Weather delay is caused by extreme or hazardous weather conditions that are forecasted or manifest themselves on point of departure, enroute, or on point of arrival.  \n",
    "**NASDelay** in minutes: Delay that is within the control of the National Airspace System (NAS) may include: non-extreme weather conditions, airport operations, heavy traffic volume, air traffic control, etc.  \n",
    "**SecurityDelay** in minutes: Security delay is caused by evacuation of a terminal or concourse, re-boarding of aircraft because of security breach, inoperative screening equipment and/or long lines in excess of 29 minutes at screening areas.  \n",
    "**LateAircraftDelay** in minutes: Arrival delay at an airport due to the late arrival of the same aircraft at a previous airport. The ripple effect of an earlier delay at downstream airports is referred to as delay propagation."
   ]
  },
  {
   "cell_type": "code",
   "execution_count": 46,
   "metadata": {},
   "outputs": [],
   "source": [
    "import pandas as pd\n",
    "import numpy as np"
   ]
  },
  {
   "cell_type": "markdown",
   "metadata": {},
   "source": [
    "**6. (0.3 балла)** Какая из причин отмены рейса (`CancellationCode`) была самой частой? (расшифровки кодов можно найти в описании данных)"
   ]
  },
  {
   "cell_type": "code",
   "execution_count": 100,
   "metadata": {},
   "outputs": [],
   "source": [
    "datas = pd.read_csv('2008.csv')"
   ]
  },
  {
   "cell_type": "code",
   "execution_count": 101,
   "metadata": {},
   "outputs": [
    {
     "data": {
      "text/plain": [
       "CancellationCode\n",
       "A    563\n",
       "B    549\n",
       "C    299\n",
       "Name: Cancelled, dtype: int64"
      ]
     },
     "execution_count": 101,
     "metadata": {},
     "output_type": "execute_result"
    }
   ],
   "source": [
    "reason = datas.groupby(\"CancellationCode\")\n",
    "reason.sum()[\"Cancelled\"]"
   ]
  },
  {
   "cell_type": "markdown",
   "metadata": {},
   "source": [
    "**7. (0.3 балла)** Найдите среднее, минимальное и максимальное расстояние, пройденное самолетом."
   ]
  },
  {
   "cell_type": "code",
   "execution_count": 102,
   "metadata": {},
   "outputs": [
    {
     "name": "stdout",
     "output_type": "stream",
     "text": [
      "MAX =  4962\n",
      "MIN =  31\n",
      "MEAN =  724.5082571428571\n"
     ]
    }
   ],
   "source": [
    "print(\"MAX = \", datas[\"Distance\"].max())\n",
    "print(\"MIN = \", datas[\"Distance\"].min())\n",
    "print(\"MEAN = \", datas[\"Distance\"].mean())"
   ]
  },
  {
   "cell_type": "markdown",
   "metadata": {},
   "source": [
    "**8. (0.3 балла)** Не выглядит ли подозрительным минимальное пройденное расстояние? В какие дни и на каких рейсах оно было? Какое расстояние было пройдено этими же рейсами в другие дни?"
   ]
  },
  {
   "cell_type": "code",
   "execution_count": 103,
   "metadata": {},
   "outputs": [
    {
     "name": "stdout",
     "output_type": "stream",
     "text": [
      "Подозрительные:\n",
      "       FlightNum  Month  DayofMonth\n",
      "1116          65     12          30\n",
      "6958          65     12          26\n",
      "17349         64      8          18\n",
      "27534         64      3          11\n",
      "46082         65      8           9\n",
      "48112         64      2          28 \n",
      "\n",
      "Они же в другие дни:\n",
      "FLIGHT #  65 \n",
      "        Distance  Month  DayofMonth\n",
      "501         533      3          20\n",
      "1389        680      3          13\n",
      "2619       2381      5          23\n",
      "3869         82      7           1\n",
      "4025       1005      6          15\n",
      "4466        123      6          29\n",
      "6778        359      7          12\n",
      "7891       2381      4           6\n",
      "7977       1747      7           9\n",
      "8448        123      2          10\n",
      "9615        533      1           4\n",
      "10833       372      3          31\n",
      "12352      1747      1          14\n",
      "12980        82      8           6\n",
      "13155      1747      7           2\n",
      "21304      1005      5          13\n",
      "24750       680      8          21\n",
      "25671       533      1          15\n",
      "26323      1005     12          15\n",
      "29801       123      4          23\n",
      "30053        82      1           4\n",
      "31375      1005      3          30\n",
      "31629       883      7          19\n",
      "32242        82      9          23\n",
      "33769      1747     12           7\n",
      "41044      1747      3          30\n",
      "43353       571      8          29\n",
      "44649       571      9          14\n",
      "44810        82      2          12\n",
      "48020      1005     11           1\n",
      "55053       123      3          31\n",
      "58530       571      1          16\n",
      "61164       680      9          14\n",
      "63028      1747      1          22\n",
      "64319       414      5           3\n",
      "67172       533      3          22 \n",
      "\n",
      "FLIGHT #  64 \n",
      "        Distance  Month  DayofMonth\n",
      "501         533      3          20\n",
      "1389        680      3          13\n",
      "2619       2381      5          23\n",
      "3869         82      7           1\n",
      "4025       1005      6          15\n",
      "4466        123      6          29\n",
      "6778        359      7          12\n",
      "7891       2381      4           6\n",
      "7977       1747      7           9\n",
      "8448        123      2          10\n",
      "9615        533      1           4\n",
      "10833       372      3          31\n",
      "12352      1747      1          14\n",
      "12980        82      8           6\n",
      "13155      1747      7           2\n",
      "21304      1005      5          13\n",
      "24750       680      8          21\n",
      "25671       533      1          15\n",
      "26323      1005     12          15\n",
      "29801       123      4          23\n",
      "30053        82      1           4\n",
      "31375      1005      3          30\n",
      "31629       883      7          19\n",
      "32242        82      9          23\n",
      "33769      1747     12           7\n",
      "41044      1747      3          30\n",
      "43353       571      8          29\n",
      "44649       571      9          14\n",
      "44810        82      2          12\n",
      "48020      1005     11           1\n",
      "55053       123      3          31\n",
      "58530       571      1          16\n",
      "61164       680      9          14\n",
      "63028      1747      1          22\n",
      "64319       414      5           3\n",
      "67172       533      3          22 \n",
      "\n"
     ]
    }
   ],
   "source": [
    "susp_flight_info = datas[datas.Distance == 31][[\"FlightNum\", \"Month\", \"DayofMonth\"]]\n",
    "susp_flight_nums = susp_flight_info[\"FlightNum\"].unique()\n",
    "print(\"Подозрительные:\")\n",
    "print(susp_flight_info, \"\\n\")\n",
    "print(\"Они же в другие дни:\")\n",
    "for flight in susp_flight_nums:\n",
    "        print(\"FLIGHT # \", flight, \"\\n\", datas[(datas['FlightNum'] == susp_flight_nums[1]) &\n",
    "                                                                   (datas['Distance'] != 31)][['Distance', 'Month', 'DayofMonth']], \"\\n\")"
   ]
  },
  {
   "cell_type": "markdown",
   "metadata": {},
   "source": [
    "**9. (0.3 балла)** Из какого аэропорта было произведено больше всего вылетов? В каком городе он находится?"
   ]
  },
  {
   "cell_type": "code",
   "execution_count": 104,
   "metadata": {},
   "outputs": [
    {
     "name": "stdout",
     "output_type": "stream",
     "text": [
      "Аэропорт с наибольшим количеством вылетов: ATL\n"
     ]
    }
   ],
   "source": [
    "most_departures_airport = datas['Origin'].value_counts().idxmax()\n",
    "\n",
    "print(f\"Аэропорт с наибольшим количеством вылетов: {most_departures_airport}\")"
   ]
  },
  {
   "cell_type": "markdown",
   "metadata": {},
   "source": [
    "ATL находится в городе  'Atlanta'"
   ]
  },
  {
   "cell_type": "markdown",
   "metadata": {},
   "source": [
    "**10. (0.3 балла)** Найдите для каждого аэропорта среднее время полета (`AirTime`) по всем вылетевшим из него рейсам. Какой аэропорт имеет наибольшее значение этого показателя?"
   ]
  },
  {
   "cell_type": "code",
   "execution_count": 105,
   "metadata": {},
   "outputs": [
    {
     "name": "stdout",
     "output_type": "stream",
     "text": [
      "Аэропорт с наибольшим средним AirTime:\n",
      "SJU\n"
     ]
    }
   ],
   "source": [
    "time_mean = datas.groupby('Origin')['AirTime'].mean().reset_index()\n",
    "time_max = time_mean.loc[time_mean['AirTime'].idxmax()]\n",
    "print(\"Аэропорт с наибольшим средним AirTime:\")\n",
    "print(time_max['Origin'])"
   ]
  },
  {
   "cell_type": "markdown",
   "metadata": {},
   "source": [
    "**11. (0.5 балла)** Найдите аэропорт, у которого наибольшая доля задержанных (`DepDelay > 0`) рейсов. Исключите при этом из рассмотрения аэропорты, из которых было отправлено меньше 1000 рейсов (используйте функцию `filter` после `groupby`)."
   ]
  },
  {
   "cell_type": "code",
   "execution_count": 106,
   "metadata": {},
   "outputs": [
    {
     "name": "stdout",
     "output_type": "stream",
     "text": [
      "Origin\n",
      "ATL    1738\n",
      "BOS     376\n",
      "BWI     467\n",
      "CLT     498\n",
      "DEN    1063\n",
      "DFW    1283\n",
      "DTW     569\n",
      "EWR     710\n",
      "IAH     841\n",
      "JFK     444\n",
      "LAS     779\n",
      "LAX     859\n",
      "LGA     358\n",
      "MCO     537\n",
      "MSP     459\n",
      "ORD    1649\n",
      "PHL     432\n",
      "PHX     858\n",
      "SEA     495\n",
      "SFO     557\n",
      "SLC     424\n",
      "dtype: int64\n",
      "Origin\n",
      "ATL    4078\n",
      "BOS    1128\n",
      "BWI    1018\n",
      "CLT    1229\n",
      "DEN    2353\n",
      "DFW    2730\n",
      "DTW    1588\n",
      "EWR    1343\n",
      "IAH    1770\n",
      "JFK    1172\n",
      "LAS    1773\n",
      "LAX    2063\n",
      "LGA    1114\n",
      "MCO    1324\n",
      "MSP    1233\n",
      "ORD    3391\n",
      "PHL    1007\n",
      "PHX    2010\n",
      "SEA    1114\n",
      "SFO    1371\n",
      "SLC    1313\n",
      "dtype: int64 \n",
      "это аэропорт # 8\n"
     ]
    }
   ],
   "source": [
    "all_airports = datas[datas['Cancelled'] != 1][['Origin', 'DepDelay']].groupby('Origin').filter(lambda x: len(x) > 1000)\n",
    "delays_in_airports = all_airports[all_airports['DepDelay'] > 0].groupby('Origin')\n",
    "print(delays_in_airports.size())\n",
    "dell_aip = np.array(delays_in_airports.size())\n",
    "all_aip = np.array(all_airports.groupby('Origin').size())\n",
    "id_max_in_parts = (dell_aip / all_aip).argmax()\n",
    "print(all_airports.groupby('Origin').size(), \"\\nэто аэропорт #\", id_max_in_parts + 1)\n"
   ]
  },
  {
   "cell_type": "markdown",
   "metadata": {},
   "source": [
    "EWR"
   ]
  },
  {
   "cell_type": "markdown",
   "metadata": {},
   "source": [
    "## Линейная регрессия\n",
    "\n",
    "В этой части мы разберемся с линейной регрессией, способами её обучения и измерением качества ее прогнозов. \n",
    "\n",
    "Будем рассматривать датасет из предыдущей части задания для предсказания времени задержки отправления рейса в минутах (DepDelay). Отметим, что под задержкой подразумевается не только опоздание рейса относительно планируемого времени вылета, но и отправление до планируемого времени.\n",
    "\n",
    "### Подготовка данных\n",
    "\n",
    "**12. (0.5 балла)** Считайте выборку из файла при помощи функции pd.read_csv и ответьте на следующие вопросы:\n",
    "   - Имеются ли в данных пропущенные значения?\n",
    "   - Сколько всего пропущенных элементов в таблице \"объект-признак\"?\n",
    "   - Сколько объектов имеют хотя бы один пропуск?\n",
    "   - Сколько признаков имеют хотя бы одно пропущенное значение?"
   ]
  },
  {
   "cell_type": "code",
   "execution_count": 107,
   "metadata": {
    "scrolled": true
   },
   "outputs": [
    {
     "name": "stdout",
     "output_type": "stream",
     "text": [
      "Пропущенные значения имеются: True\n",
      "В таблице объект-признак пропущено 355215 значений\n",
      "70000 объектов имеют хотя бы 1 пропуск\n",
      "16 признаков имеют хотя бы 1 пропуск\n"
     ]
    }
   ],
   "source": [
    "#datas = pd.read_csv('2008.csv')\n",
    "print(\"Пропущенные значения имеются:\", datas.isnull().values.any())\n",
    "print(\"В таблице объект-признак пропущено\", datas.isnull().values.sum(), \"значений\")\n",
    "print(np.count_nonzero(np.array(datas.isnull().values.sum(axis=1))), \"объектов имеют хотя бы 1 пропуск\")\n",
    "print(np.count_nonzero(np.array(datas.isnull().values.sum(axis=0))), \"признаков имеют хотя бы 1 пропуск\")\n"
   ]
  },
  {
   "cell_type": "markdown",
   "metadata": {},
   "source": [
    "Как вы понимаете, также не имеет смысла рассматривать при решении поставленной задачи объекты с пропущенным значением целевой переменной. В связи с этим ответьте на следующие вопросы и выполните соответствующие действия:\n",
    "- Имеются ли пропущенные значения в целевой переменной? ДА, имеются пропущенные значения в целевой переменной.\n",
    "- Проанализируйте объекты с пропущенными значениями целевой переменной. Чем вызвано это явление? Что их объединяет? Можно ли в связи с этим, на ваш взгляд, исключить какие-то признаки из рассмотрения? Обоснуйте свою точку зрения.\n",
    "\n",
    "Исключите из выборки объекты **с пропущенным значением целевой переменной и со значением целевой переменной, равным 0**, а также при необходимости исключите признаки в соответствии с вашим ответом на последний вопрос из списка и выделите целевую переменную в отдельный вектор, исключив её из матрицы \"объект-признак\"."
   ]
  },
  {
   "cell_type": "code",
   "execution_count": 108,
   "metadata": {},
   "outputs": [],
   "source": [
    "# datas = datas[(~datas['DepDelay'].isnull())]\n",
    "# datas = datas[(datas['DepDelay'] != 0)]\n",
    "# datas = datas.reset_index(drop=True)  # Add drop=True to drop the old index\n",
    "# datas = datas.drop(['Cancelled', 'CancellationCode'], axis=1)  # Provide column names in a list"
   ]
  },
  {
   "cell_type": "code",
   "execution_count": 109,
   "metadata": {},
   "outputs": [],
   "source": [
    "# datas = datas.reset_index(drop=True)\n",
    "###########datas = datas[35000:45000]   \n",
    "# datas = datas.reset_index()\n",
    "# datas = datas.drop('index', 1)"
   ]
  },
  {
   "cell_type": "code",
   "execution_count": 110,
   "metadata": {},
   "outputs": [],
   "source": [
    "# Y = datas['DepDelay']\n",
    "# datas = datas.drop('DepDelay', axis=1)\n",
    "# #Y.head()"
   ]
  },
  {
   "cell_type": "code",
   "execution_count": 111,
   "metadata": {},
   "outputs": [
    {
     "name": "stdout",
     "output_type": "stream",
     "text": [
      "Есть пропуски в целевой переменной\n"
     ]
    },
    {
     "data": {
      "text/plain": [
       "array([1])"
      ]
     },
     "execution_count": 111,
     "metadata": {},
     "output_type": "execute_result"
    }
   ],
   "source": [
    "if datas[\"DepDelay\"].isnull().any():\n",
    "    print(\"Есть пропуски в целевой переменной\")\n",
    "else:\n",
    "    print(\"Нет пропусков в целевой переменной\")\n",
    "    \n",
    "temp = datas[datas[\"DepDelay\"].isnull() == True]\n",
    "pd.unique(temp[\"Cancelled\"])"
   ]
  },
  {
   "cell_type": "code",
   "execution_count": 112,
   "metadata": {},
   "outputs": [
    {
     "data": {
      "text/html": [
       "<div>\n",
       "<style scoped>\n",
       "    .dataframe tbody tr th:only-of-type {\n",
       "        vertical-align: middle;\n",
       "    }\n",
       "\n",
       "    .dataframe tbody tr th {\n",
       "        vertical-align: top;\n",
       "    }\n",
       "\n",
       "    .dataframe thead th {\n",
       "        text-align: right;\n",
       "    }\n",
       "</style>\n",
       "<table border=\"1\" class=\"dataframe\">\n",
       "  <thead>\n",
       "    <tr style=\"text-align: right;\">\n",
       "      <th></th>\n",
       "      <th>Month</th>\n",
       "      <th>DayofMonth</th>\n",
       "      <th>DayOfWeek</th>\n",
       "      <th>DepTime</th>\n",
       "      <th>CRSDepTime</th>\n",
       "      <th>ArrTime</th>\n",
       "      <th>CRSArrTime</th>\n",
       "      <th>UniqueCarrier</th>\n",
       "      <th>FlightNum</th>\n",
       "      <th>ActualElapsedTime</th>\n",
       "      <th>CRSElapsedTime</th>\n",
       "      <th>AirTime</th>\n",
       "      <th>ArrDelay</th>\n",
       "      <th>Origin</th>\n",
       "      <th>Dest</th>\n",
       "      <th>Distance</th>\n",
       "      <th>TaxiIn</th>\n",
       "      <th>TaxiOut</th>\n",
       "      <th>Diverted</th>\n",
       "    </tr>\n",
       "  </thead>\n",
       "  <tbody>\n",
       "    <tr>\n",
       "      <th>0</th>\n",
       "      <td>6</td>\n",
       "      <td>18</td>\n",
       "      <td>3</td>\n",
       "      <td>2111.0</td>\n",
       "      <td>2055</td>\n",
       "      <td>2308.0</td>\n",
       "      <td>2300</td>\n",
       "      <td>WN</td>\n",
       "      <td>242</td>\n",
       "      <td>57.0</td>\n",
       "      <td>65.0</td>\n",
       "      <td>46.0</td>\n",
       "      <td>8.0</td>\n",
       "      <td>MDW</td>\n",
       "      <td>CLE</td>\n",
       "      <td>307</td>\n",
       "      <td>3.0</td>\n",
       "      <td>8.0</td>\n",
       "      <td>0</td>\n",
       "    </tr>\n",
       "    <tr>\n",
       "      <th>1</th>\n",
       "      <td>6</td>\n",
       "      <td>4</td>\n",
       "      <td>3</td>\n",
       "      <td>1426.0</td>\n",
       "      <td>1410</td>\n",
       "      <td>1730.0</td>\n",
       "      <td>1728</td>\n",
       "      <td>XE</td>\n",
       "      <td>2380</td>\n",
       "      <td>124.0</td>\n",
       "      <td>138.0</td>\n",
       "      <td>108.0</td>\n",
       "      <td>2.0</td>\n",
       "      <td>IAH</td>\n",
       "      <td>AVL</td>\n",
       "      <td>834</td>\n",
       "      <td>4.0</td>\n",
       "      <td>12.0</td>\n",
       "      <td>0</td>\n",
       "    </tr>\n",
       "    <tr>\n",
       "      <th>2</th>\n",
       "      <td>8</td>\n",
       "      <td>3</td>\n",
       "      <td>7</td>\n",
       "      <td>1143.0</td>\n",
       "      <td>1145</td>\n",
       "      <td>1501.0</td>\n",
       "      <td>1520</td>\n",
       "      <td>WN</td>\n",
       "      <td>1769</td>\n",
       "      <td>138.0</td>\n",
       "      <td>155.0</td>\n",
       "      <td>125.0</td>\n",
       "      <td>-19.0</td>\n",
       "      <td>MDW</td>\n",
       "      <td>TPA</td>\n",
       "      <td>997</td>\n",
       "      <td>4.0</td>\n",
       "      <td>9.0</td>\n",
       "      <td>0</td>\n",
       "    </tr>\n",
       "    <tr>\n",
       "      <th>3</th>\n",
       "      <td>1</td>\n",
       "      <td>23</td>\n",
       "      <td>3</td>\n",
       "      <td>1141.0</td>\n",
       "      <td>1144</td>\n",
       "      <td>1323.0</td>\n",
       "      <td>1335</td>\n",
       "      <td>OO</td>\n",
       "      <td>3802</td>\n",
       "      <td>102.0</td>\n",
       "      <td>111.0</td>\n",
       "      <td>79.0</td>\n",
       "      <td>-12.0</td>\n",
       "      <td>SLC</td>\n",
       "      <td>FCA</td>\n",
       "      <td>532</td>\n",
       "      <td>4.0</td>\n",
       "      <td>19.0</td>\n",
       "      <td>0</td>\n",
       "    </tr>\n",
       "    <tr>\n",
       "      <th>4</th>\n",
       "      <td>5</td>\n",
       "      <td>4</td>\n",
       "      <td>7</td>\n",
       "      <td>815.0</td>\n",
       "      <td>820</td>\n",
       "      <td>1243.0</td>\n",
       "      <td>1300</td>\n",
       "      <td>WN</td>\n",
       "      <td>399</td>\n",
       "      <td>148.0</td>\n",
       "      <td>160.0</td>\n",
       "      <td>136.0</td>\n",
       "      <td>-17.0</td>\n",
       "      <td>LAS</td>\n",
       "      <td>AUS</td>\n",
       "      <td>1090</td>\n",
       "      <td>4.0</td>\n",
       "      <td>8.0</td>\n",
       "      <td>0</td>\n",
       "    </tr>\n",
       "    <tr>\n",
       "      <th>...</th>\n",
       "      <td>...</td>\n",
       "      <td>...</td>\n",
       "      <td>...</td>\n",
       "      <td>...</td>\n",
       "      <td>...</td>\n",
       "      <td>...</td>\n",
       "      <td>...</td>\n",
       "      <td>...</td>\n",
       "      <td>...</td>\n",
       "      <td>...</td>\n",
       "      <td>...</td>\n",
       "      <td>...</td>\n",
       "      <td>...</td>\n",
       "      <td>...</td>\n",
       "      <td>...</td>\n",
       "      <td>...</td>\n",
       "      <td>...</td>\n",
       "      <td>...</td>\n",
       "      <td>...</td>\n",
       "    </tr>\n",
       "    <tr>\n",
       "      <th>69994</th>\n",
       "      <td>1</td>\n",
       "      <td>26</td>\n",
       "      <td>6</td>\n",
       "      <td>920.0</td>\n",
       "      <td>925</td>\n",
       "      <td>1110.0</td>\n",
       "      <td>1118</td>\n",
       "      <td>OH</td>\n",
       "      <td>5218</td>\n",
       "      <td>110.0</td>\n",
       "      <td>113.0</td>\n",
       "      <td>85.0</td>\n",
       "      <td>-8.0</td>\n",
       "      <td>CVG</td>\n",
       "      <td>BDL</td>\n",
       "      <td>661</td>\n",
       "      <td>12.0</td>\n",
       "      <td>13.0</td>\n",
       "      <td>0</td>\n",
       "    </tr>\n",
       "    <tr>\n",
       "      <th>69995</th>\n",
       "      <td>5</td>\n",
       "      <td>12</td>\n",
       "      <td>1</td>\n",
       "      <td>1829.0</td>\n",
       "      <td>1840</td>\n",
       "      <td>2137.0</td>\n",
       "      <td>2149</td>\n",
       "      <td>DL</td>\n",
       "      <td>794</td>\n",
       "      <td>128.0</td>\n",
       "      <td>129.0</td>\n",
       "      <td>86.0</td>\n",
       "      <td>-12.0</td>\n",
       "      <td>ORD</td>\n",
       "      <td>ATL</td>\n",
       "      <td>606</td>\n",
       "      <td>22.0</td>\n",
       "      <td>20.0</td>\n",
       "      <td>0</td>\n",
       "    </tr>\n",
       "    <tr>\n",
       "      <th>69996</th>\n",
       "      <td>5</td>\n",
       "      <td>11</td>\n",
       "      <td>7</td>\n",
       "      <td>1149.0</td>\n",
       "      <td>1125</td>\n",
       "      <td>1336.0</td>\n",
       "      <td>1314</td>\n",
       "      <td>OO</td>\n",
       "      <td>6159</td>\n",
       "      <td>47.0</td>\n",
       "      <td>49.0</td>\n",
       "      <td>30.0</td>\n",
       "      <td>22.0</td>\n",
       "      <td>ORD</td>\n",
       "      <td>GRR</td>\n",
       "      <td>137</td>\n",
       "      <td>4.0</td>\n",
       "      <td>13.0</td>\n",
       "      <td>0</td>\n",
       "    </tr>\n",
       "    <tr>\n",
       "      <th>69998</th>\n",
       "      <td>2</td>\n",
       "      <td>18</td>\n",
       "      <td>1</td>\n",
       "      <td>1906.0</td>\n",
       "      <td>1900</td>\n",
       "      <td>2200.0</td>\n",
       "      <td>2139</td>\n",
       "      <td>NW</td>\n",
       "      <td>641</td>\n",
       "      <td>234.0</td>\n",
       "      <td>219.0</td>\n",
       "      <td>192.0</td>\n",
       "      <td>21.0</td>\n",
       "      <td>RSW</td>\n",
       "      <td>MSP</td>\n",
       "      <td>1416</td>\n",
       "      <td>20.0</td>\n",
       "      <td>22.0</td>\n",
       "      <td>0</td>\n",
       "    </tr>\n",
       "    <tr>\n",
       "      <th>69999</th>\n",
       "      <td>12</td>\n",
       "      <td>6</td>\n",
       "      <td>6</td>\n",
       "      <td>859.0</td>\n",
       "      <td>900</td>\n",
       "      <td>959.0</td>\n",
       "      <td>1005</td>\n",
       "      <td>WN</td>\n",
       "      <td>510</td>\n",
       "      <td>60.0</td>\n",
       "      <td>65.0</td>\n",
       "      <td>46.0</td>\n",
       "      <td>-6.0</td>\n",
       "      <td>LAS</td>\n",
       "      <td>BUR</td>\n",
       "      <td>223</td>\n",
       "      <td>2.0</td>\n",
       "      <td>12.0</td>\n",
       "      <td>0</td>\n",
       "    </tr>\n",
       "  </tbody>\n",
       "</table>\n",
       "<p>63404 rows × 19 columns</p>\n",
       "</div>"
      ],
      "text/plain": [
       "       Month  DayofMonth  DayOfWeek  DepTime  CRSDepTime  ArrTime  CRSArrTime  \\\n",
       "0          6          18          3   2111.0        2055   2308.0        2300   \n",
       "1          6           4          3   1426.0        1410   1730.0        1728   \n",
       "2          8           3          7   1143.0        1145   1501.0        1520   \n",
       "3          1          23          3   1141.0        1144   1323.0        1335   \n",
       "4          5           4          7    815.0         820   1243.0        1300   \n",
       "...      ...         ...        ...      ...         ...      ...         ...   \n",
       "69994      1          26          6    920.0         925   1110.0        1118   \n",
       "69995      5          12          1   1829.0        1840   2137.0        2149   \n",
       "69996      5          11          7   1149.0        1125   1336.0        1314   \n",
       "69998      2          18          1   1906.0        1900   2200.0        2139   \n",
       "69999     12           6          6    859.0         900    959.0        1005   \n",
       "\n",
       "      UniqueCarrier  FlightNum  ActualElapsedTime  CRSElapsedTime  AirTime  \\\n",
       "0                WN        242               57.0            65.0     46.0   \n",
       "1                XE       2380              124.0           138.0    108.0   \n",
       "2                WN       1769              138.0           155.0    125.0   \n",
       "3                OO       3802              102.0           111.0     79.0   \n",
       "4                WN        399              148.0           160.0    136.0   \n",
       "...             ...        ...                ...             ...      ...   \n",
       "69994            OH       5218              110.0           113.0     85.0   \n",
       "69995            DL        794              128.0           129.0     86.0   \n",
       "69996            OO       6159               47.0            49.0     30.0   \n",
       "69998            NW        641              234.0           219.0    192.0   \n",
       "69999            WN        510               60.0            65.0     46.0   \n",
       "\n",
       "       ArrDelay Origin Dest  Distance  TaxiIn  TaxiOut  Diverted  \n",
       "0           8.0    MDW  CLE       307     3.0      8.0         0  \n",
       "1           2.0    IAH  AVL       834     4.0     12.0         0  \n",
       "2         -19.0    MDW  TPA       997     4.0      9.0         0  \n",
       "3         -12.0    SLC  FCA       532     4.0     19.0         0  \n",
       "4         -17.0    LAS  AUS      1090     4.0      8.0         0  \n",
       "...         ...    ...  ...       ...     ...      ...       ...  \n",
       "69994      -8.0    CVG  BDL       661    12.0     13.0         0  \n",
       "69995     -12.0    ORD  ATL       606    22.0     20.0         0  \n",
       "69996      22.0    ORD  GRR       137     4.0     13.0         0  \n",
       "69998      21.0    RSW  MSP      1416    20.0     22.0         0  \n",
       "69999      -6.0    LAS  BUR       223     2.0     12.0         0  \n",
       "\n",
       "[63404 rows x 19 columns]"
      ]
     },
     "execution_count": 112,
     "metadata": {},
     "output_type": "execute_result"
    }
   ],
   "source": [
    "index_list = list(datas[(datas[\"DepDelay\"].isnull() == True) | (datas[\"DepDelay\"] == 0)].index)\n",
    "data_linreg = datas.drop(index_list, axis = 0)\n",
    "data_linreg.drop([\"CarrierDelay\", \"WeatherDelay\", \"NASDelay\", \"SecurityDelay\", \"LateAircraftDelay\", \"Cancelled\", \n",
    "                \"CancellationCode\", \"Year\", \"TailNum\"], axis = 1, inplace = True)\n",
    "data_depdelay = data_linreg[\"DepDelay\"]\n",
    "data_linreg.drop(\"DepDelay\", axis = 1, inplace = True)\n",
    "data_linreg"
   ]
  },
  {
   "cell_type": "markdown",
   "metadata": {},
   "source": [
    "**13. (0.5 балла)** Обратите внимание, что признаки DepTime, CRSDepTime, ArrTime, CRSArrTime приведены в формате hhmm, в связи с чем будет не вполне корректно рассматривать их как вещественные.\n",
    "\n",
    "Преобразуйте каждый признак FeatureName из указанных в пару новых признаков FeatureName\\_Hour, FeatureName\\_Minute, разделив каждое из значений на часы и минуты. Не забудьте при этом исключить исходный признак из выборки. В случае, если значение признака отсутствует, значения двух новых признаков, его заменяющих, также должны отсутствовать. \n",
    "\n",
    "Например, признак DepTime необходимо заменить на пару признаков DepTime_Hour, DepTime_Minute. При этом, например, значение 155 исходного признака будет преобразовано в значения 1 и 55 признаков DepTime_Hour, DepTime_Minute соответственно."
   ]
  },
  {
   "cell_type": "code",
   "execution_count": 113,
   "metadata": {},
   "outputs": [
    {
     "data": {
      "text/html": [
       "<div>\n",
       "<style scoped>\n",
       "    .dataframe tbody tr th:only-of-type {\n",
       "        vertical-align: middle;\n",
       "    }\n",
       "\n",
       "    .dataframe tbody tr th {\n",
       "        vertical-align: top;\n",
       "    }\n",
       "\n",
       "    .dataframe thead th {\n",
       "        text-align: right;\n",
       "    }\n",
       "</style>\n",
       "<table border=\"1\" class=\"dataframe\">\n",
       "  <thead>\n",
       "    <tr style=\"text-align: right;\">\n",
       "      <th></th>\n",
       "      <th>Month</th>\n",
       "      <th>DayofMonth</th>\n",
       "      <th>DayOfWeek</th>\n",
       "      <th>UniqueCarrier</th>\n",
       "      <th>FlightNum</th>\n",
       "      <th>ActualElapsedTime</th>\n",
       "      <th>CRSElapsedTime</th>\n",
       "      <th>AirTime</th>\n",
       "      <th>ArrDelay</th>\n",
       "      <th>Origin</th>\n",
       "      <th>Dest</th>\n",
       "      <th>Distance</th>\n",
       "      <th>TaxiIn</th>\n",
       "      <th>TaxiOut</th>\n",
       "      <th>Diverted</th>\n",
       "      <th>DepTime_Hour</th>\n",
       "      <th>DepTime_Minute</th>\n",
       "      <th>CRSDepTime_Hour</th>\n",
       "      <th>CRSDepTime_Minute</th>\n",
       "      <th>ArrTime_Hour</th>\n",
       "      <th>ArrTime_Minute</th>\n",
       "      <th>CRSArrTime_Hour</th>\n",
       "      <th>CRSArrTime_Minute</th>\n",
       "    </tr>\n",
       "  </thead>\n",
       "  <tbody>\n",
       "    <tr>\n",
       "      <th>0</th>\n",
       "      <td>6</td>\n",
       "      <td>18</td>\n",
       "      <td>3</td>\n",
       "      <td>WN</td>\n",
       "      <td>242</td>\n",
       "      <td>57.0</td>\n",
       "      <td>65.0</td>\n",
       "      <td>46.0</td>\n",
       "      <td>8.0</td>\n",
       "      <td>MDW</td>\n",
       "      <td>CLE</td>\n",
       "      <td>307</td>\n",
       "      <td>3.0</td>\n",
       "      <td>8.0</td>\n",
       "      <td>0</td>\n",
       "      <td>21.0</td>\n",
       "      <td>11.0</td>\n",
       "      <td>20.0</td>\n",
       "      <td>55.0</td>\n",
       "      <td>23.0</td>\n",
       "      <td>8.0</td>\n",
       "      <td>23.0</td>\n",
       "      <td>0.0</td>\n",
       "    </tr>\n",
       "    <tr>\n",
       "      <th>1</th>\n",
       "      <td>6</td>\n",
       "      <td>4</td>\n",
       "      <td>3</td>\n",
       "      <td>XE</td>\n",
       "      <td>2380</td>\n",
       "      <td>124.0</td>\n",
       "      <td>138.0</td>\n",
       "      <td>108.0</td>\n",
       "      <td>2.0</td>\n",
       "      <td>IAH</td>\n",
       "      <td>AVL</td>\n",
       "      <td>834</td>\n",
       "      <td>4.0</td>\n",
       "      <td>12.0</td>\n",
       "      <td>0</td>\n",
       "      <td>14.0</td>\n",
       "      <td>26.0</td>\n",
       "      <td>14.0</td>\n",
       "      <td>10.0</td>\n",
       "      <td>17.0</td>\n",
       "      <td>30.0</td>\n",
       "      <td>17.0</td>\n",
       "      <td>28.0</td>\n",
       "    </tr>\n",
       "    <tr>\n",
       "      <th>2</th>\n",
       "      <td>8</td>\n",
       "      <td>3</td>\n",
       "      <td>7</td>\n",
       "      <td>WN</td>\n",
       "      <td>1769</td>\n",
       "      <td>138.0</td>\n",
       "      <td>155.0</td>\n",
       "      <td>125.0</td>\n",
       "      <td>-19.0</td>\n",
       "      <td>MDW</td>\n",
       "      <td>TPA</td>\n",
       "      <td>997</td>\n",
       "      <td>4.0</td>\n",
       "      <td>9.0</td>\n",
       "      <td>0</td>\n",
       "      <td>11.0</td>\n",
       "      <td>43.0</td>\n",
       "      <td>11.0</td>\n",
       "      <td>45.0</td>\n",
       "      <td>15.0</td>\n",
       "      <td>1.0</td>\n",
       "      <td>15.0</td>\n",
       "      <td>20.0</td>\n",
       "    </tr>\n",
       "    <tr>\n",
       "      <th>3</th>\n",
       "      <td>1</td>\n",
       "      <td>23</td>\n",
       "      <td>3</td>\n",
       "      <td>OO</td>\n",
       "      <td>3802</td>\n",
       "      <td>102.0</td>\n",
       "      <td>111.0</td>\n",
       "      <td>79.0</td>\n",
       "      <td>-12.0</td>\n",
       "      <td>SLC</td>\n",
       "      <td>FCA</td>\n",
       "      <td>532</td>\n",
       "      <td>4.0</td>\n",
       "      <td>19.0</td>\n",
       "      <td>0</td>\n",
       "      <td>11.0</td>\n",
       "      <td>41.0</td>\n",
       "      <td>11.0</td>\n",
       "      <td>44.0</td>\n",
       "      <td>13.0</td>\n",
       "      <td>23.0</td>\n",
       "      <td>13.0</td>\n",
       "      <td>35.0</td>\n",
       "    </tr>\n",
       "    <tr>\n",
       "      <th>4</th>\n",
       "      <td>5</td>\n",
       "      <td>4</td>\n",
       "      <td>7</td>\n",
       "      <td>WN</td>\n",
       "      <td>399</td>\n",
       "      <td>148.0</td>\n",
       "      <td>160.0</td>\n",
       "      <td>136.0</td>\n",
       "      <td>-17.0</td>\n",
       "      <td>LAS</td>\n",
       "      <td>AUS</td>\n",
       "      <td>1090</td>\n",
       "      <td>4.0</td>\n",
       "      <td>8.0</td>\n",
       "      <td>0</td>\n",
       "      <td>8.0</td>\n",
       "      <td>15.0</td>\n",
       "      <td>8.0</td>\n",
       "      <td>20.0</td>\n",
       "      <td>12.0</td>\n",
       "      <td>43.0</td>\n",
       "      <td>13.0</td>\n",
       "      <td>0.0</td>\n",
       "    </tr>\n",
       "    <tr>\n",
       "      <th>...</th>\n",
       "      <td>...</td>\n",
       "      <td>...</td>\n",
       "      <td>...</td>\n",
       "      <td>...</td>\n",
       "      <td>...</td>\n",
       "      <td>...</td>\n",
       "      <td>...</td>\n",
       "      <td>...</td>\n",
       "      <td>...</td>\n",
       "      <td>...</td>\n",
       "      <td>...</td>\n",
       "      <td>...</td>\n",
       "      <td>...</td>\n",
       "      <td>...</td>\n",
       "      <td>...</td>\n",
       "      <td>...</td>\n",
       "      <td>...</td>\n",
       "      <td>...</td>\n",
       "      <td>...</td>\n",
       "      <td>...</td>\n",
       "      <td>...</td>\n",
       "      <td>...</td>\n",
       "      <td>...</td>\n",
       "    </tr>\n",
       "    <tr>\n",
       "      <th>69994</th>\n",
       "      <td>1</td>\n",
       "      <td>26</td>\n",
       "      <td>6</td>\n",
       "      <td>OH</td>\n",
       "      <td>5218</td>\n",
       "      <td>110.0</td>\n",
       "      <td>113.0</td>\n",
       "      <td>85.0</td>\n",
       "      <td>-8.0</td>\n",
       "      <td>CVG</td>\n",
       "      <td>BDL</td>\n",
       "      <td>661</td>\n",
       "      <td>12.0</td>\n",
       "      <td>13.0</td>\n",
       "      <td>0</td>\n",
       "      <td>9.0</td>\n",
       "      <td>20.0</td>\n",
       "      <td>9.0</td>\n",
       "      <td>25.0</td>\n",
       "      <td>11.0</td>\n",
       "      <td>10.0</td>\n",
       "      <td>11.0</td>\n",
       "      <td>18.0</td>\n",
       "    </tr>\n",
       "    <tr>\n",
       "      <th>69995</th>\n",
       "      <td>5</td>\n",
       "      <td>12</td>\n",
       "      <td>1</td>\n",
       "      <td>DL</td>\n",
       "      <td>794</td>\n",
       "      <td>128.0</td>\n",
       "      <td>129.0</td>\n",
       "      <td>86.0</td>\n",
       "      <td>-12.0</td>\n",
       "      <td>ORD</td>\n",
       "      <td>ATL</td>\n",
       "      <td>606</td>\n",
       "      <td>22.0</td>\n",
       "      <td>20.0</td>\n",
       "      <td>0</td>\n",
       "      <td>18.0</td>\n",
       "      <td>29.0</td>\n",
       "      <td>18.0</td>\n",
       "      <td>40.0</td>\n",
       "      <td>21.0</td>\n",
       "      <td>37.0</td>\n",
       "      <td>21.0</td>\n",
       "      <td>49.0</td>\n",
       "    </tr>\n",
       "    <tr>\n",
       "      <th>69996</th>\n",
       "      <td>5</td>\n",
       "      <td>11</td>\n",
       "      <td>7</td>\n",
       "      <td>OO</td>\n",
       "      <td>6159</td>\n",
       "      <td>47.0</td>\n",
       "      <td>49.0</td>\n",
       "      <td>30.0</td>\n",
       "      <td>22.0</td>\n",
       "      <td>ORD</td>\n",
       "      <td>GRR</td>\n",
       "      <td>137</td>\n",
       "      <td>4.0</td>\n",
       "      <td>13.0</td>\n",
       "      <td>0</td>\n",
       "      <td>11.0</td>\n",
       "      <td>49.0</td>\n",
       "      <td>11.0</td>\n",
       "      <td>25.0</td>\n",
       "      <td>13.0</td>\n",
       "      <td>36.0</td>\n",
       "      <td>13.0</td>\n",
       "      <td>14.0</td>\n",
       "    </tr>\n",
       "    <tr>\n",
       "      <th>69998</th>\n",
       "      <td>2</td>\n",
       "      <td>18</td>\n",
       "      <td>1</td>\n",
       "      <td>NW</td>\n",
       "      <td>641</td>\n",
       "      <td>234.0</td>\n",
       "      <td>219.0</td>\n",
       "      <td>192.0</td>\n",
       "      <td>21.0</td>\n",
       "      <td>RSW</td>\n",
       "      <td>MSP</td>\n",
       "      <td>1416</td>\n",
       "      <td>20.0</td>\n",
       "      <td>22.0</td>\n",
       "      <td>0</td>\n",
       "      <td>19.0</td>\n",
       "      <td>6.0</td>\n",
       "      <td>19.0</td>\n",
       "      <td>0.0</td>\n",
       "      <td>22.0</td>\n",
       "      <td>0.0</td>\n",
       "      <td>21.0</td>\n",
       "      <td>39.0</td>\n",
       "    </tr>\n",
       "    <tr>\n",
       "      <th>69999</th>\n",
       "      <td>12</td>\n",
       "      <td>6</td>\n",
       "      <td>6</td>\n",
       "      <td>WN</td>\n",
       "      <td>510</td>\n",
       "      <td>60.0</td>\n",
       "      <td>65.0</td>\n",
       "      <td>46.0</td>\n",
       "      <td>-6.0</td>\n",
       "      <td>LAS</td>\n",
       "      <td>BUR</td>\n",
       "      <td>223</td>\n",
       "      <td>2.0</td>\n",
       "      <td>12.0</td>\n",
       "      <td>0</td>\n",
       "      <td>8.0</td>\n",
       "      <td>59.0</td>\n",
       "      <td>9.0</td>\n",
       "      <td>0.0</td>\n",
       "      <td>9.0</td>\n",
       "      <td>59.0</td>\n",
       "      <td>10.0</td>\n",
       "      <td>5.0</td>\n",
       "    </tr>\n",
       "  </tbody>\n",
       "</table>\n",
       "<p>63404 rows × 23 columns</p>\n",
       "</div>"
      ],
      "text/plain": [
       "       Month  DayofMonth  DayOfWeek UniqueCarrier  FlightNum  \\\n",
       "0          6          18          3            WN        242   \n",
       "1          6           4          3            XE       2380   \n",
       "2          8           3          7            WN       1769   \n",
       "3          1          23          3            OO       3802   \n",
       "4          5           4          7            WN        399   \n",
       "...      ...         ...        ...           ...        ...   \n",
       "69994      1          26          6            OH       5218   \n",
       "69995      5          12          1            DL        794   \n",
       "69996      5          11          7            OO       6159   \n",
       "69998      2          18          1            NW        641   \n",
       "69999     12           6          6            WN        510   \n",
       "\n",
       "       ActualElapsedTime  CRSElapsedTime  AirTime  ArrDelay Origin Dest  \\\n",
       "0                   57.0            65.0     46.0       8.0    MDW  CLE   \n",
       "1                  124.0           138.0    108.0       2.0    IAH  AVL   \n",
       "2                  138.0           155.0    125.0     -19.0    MDW  TPA   \n",
       "3                  102.0           111.0     79.0     -12.0    SLC  FCA   \n",
       "4                  148.0           160.0    136.0     -17.0    LAS  AUS   \n",
       "...                  ...             ...      ...       ...    ...  ...   \n",
       "69994              110.0           113.0     85.0      -8.0    CVG  BDL   \n",
       "69995              128.0           129.0     86.0     -12.0    ORD  ATL   \n",
       "69996               47.0            49.0     30.0      22.0    ORD  GRR   \n",
       "69998              234.0           219.0    192.0      21.0    RSW  MSP   \n",
       "69999               60.0            65.0     46.0      -6.0    LAS  BUR   \n",
       "\n",
       "       Distance  TaxiIn  TaxiOut  Diverted  DepTime_Hour  DepTime_Minute  \\\n",
       "0           307     3.0      8.0         0          21.0            11.0   \n",
       "1           834     4.0     12.0         0          14.0            26.0   \n",
       "2           997     4.0      9.0         0          11.0            43.0   \n",
       "3           532     4.0     19.0         0          11.0            41.0   \n",
       "4          1090     4.0      8.0         0           8.0            15.0   \n",
       "...         ...     ...      ...       ...           ...             ...   \n",
       "69994       661    12.0     13.0         0           9.0            20.0   \n",
       "69995       606    22.0     20.0         0          18.0            29.0   \n",
       "69996       137     4.0     13.0         0          11.0            49.0   \n",
       "69998      1416    20.0     22.0         0          19.0             6.0   \n",
       "69999       223     2.0     12.0         0           8.0            59.0   \n",
       "\n",
       "       CRSDepTime_Hour  CRSDepTime_Minute  ArrTime_Hour  ArrTime_Minute  \\\n",
       "0                 20.0               55.0          23.0             8.0   \n",
       "1                 14.0               10.0          17.0            30.0   \n",
       "2                 11.0               45.0          15.0             1.0   \n",
       "3                 11.0               44.0          13.0            23.0   \n",
       "4                  8.0               20.0          12.0            43.0   \n",
       "...                ...                ...           ...             ...   \n",
       "69994              9.0               25.0          11.0            10.0   \n",
       "69995             18.0               40.0          21.0            37.0   \n",
       "69996             11.0               25.0          13.0            36.0   \n",
       "69998             19.0                0.0          22.0             0.0   \n",
       "69999              9.0                0.0           9.0            59.0   \n",
       "\n",
       "       CRSArrTime_Hour  CRSArrTime_Minute  \n",
       "0                 23.0                0.0  \n",
       "1                 17.0               28.0  \n",
       "2                 15.0               20.0  \n",
       "3                 13.0               35.0  \n",
       "4                 13.0                0.0  \n",
       "...                ...                ...  \n",
       "69994             11.0               18.0  \n",
       "69995             21.0               49.0  \n",
       "69996             13.0               14.0  \n",
       "69998             21.0               39.0  \n",
       "69999             10.0                5.0  \n",
       "\n",
       "[63404 rows x 23 columns]"
      ]
     },
     "execution_count": 113,
     "metadata": {},
     "output_type": "execute_result"
    }
   ],
   "source": [
    "#datas = pd.read_csv(\"2008.csv\")\n",
    "def ex_13(X):\n",
    "    list_hh = list()\n",
    "    list_mm = list()\n",
    "    for i in X:\n",
    "        if np.isnan(i):\n",
    "            list_hh.append(np.nan)\n",
    "            list_mm.append(np.nan)\n",
    "        else:\n",
    "            temp = str(int(i))\n",
    "            list_hh.append(float(('0'*(4-len(temp)) + temp)[:-2]))\n",
    "            list_mm.append(float(('0'*(4-len(temp)) + temp)[-2:]))\n",
    "    return list_hh, list_mm\n",
    "\n",
    "data_linreg[\"DepTime_Hour\"], data_linreg[\"DepTime_Minute\"] = ex_13(data_linreg[\"DepTime\"])\n",
    "data_linreg.drop(\"DepTime\", axis = 1, inplace = True)\n",
    "data_linreg[\"CRSDepTime_Hour\"], data_linreg[\"CRSDepTime_Minute\"] = ex_13(data_linreg[\"CRSDepTime\"])\n",
    "data_linreg.drop(\"CRSDepTime\", axis = 1, inplace = True)\n",
    "data_linreg[\"ArrTime_Hour\"], data_linreg[\"ArrTime_Minute\"] = ex_13(data_linreg[\"ArrTime\"])\n",
    "data_linreg.drop(\"ArrTime\", axis = 1, inplace = True)\n",
    "data_linreg[\"CRSArrTime_Hour\"], data_linreg[\"CRSArrTime_Minute\"] = ex_13(data_linreg[\"CRSArrTime\"])\n",
    "data_linreg.drop(\"CRSArrTime\", axis = 1, inplace = True)\n",
    "data_linreg"
   ]
  },
  {
   "cell_type": "markdown",
   "metadata": {},
   "source": [
    "**14. (0.5 балла)** Некоторые из признаков, отличных от целевой переменной, могут оказывать чересчур значимое влияние на прогноз, поскольку по своему смыслу содержат большую долю информации о значении целевой переменной. Изучите описание датасета и исключите признаки, сильно коррелирующие с ответами. Ваш выбор признаков для исключения из выборки обоснуйте. Кроме того, исключите признаки TailNum и Year."
   ]
  },
  {
   "cell_type": "code",
   "execution_count": 114,
   "metadata": {},
   "outputs": [
    {
     "name": "stdout",
     "output_type": "stream",
     "text": [
      "Month                False\n",
      "DayofMonth           False\n",
      "DayOfWeek            False\n",
      "FlightNum            False\n",
      "ActualElapsedTime    False\n",
      "CRSElapsedTime       False\n",
      "AirTime              False\n",
      "ArrDelay             False\n",
      "Distance             False\n",
      "TaxiIn               False\n",
      "TaxiOut              False\n",
      "Diverted             False\n",
      "DepTime_Hour         False\n",
      "DepTime_Minute       False\n",
      "CRSDepTime_Hour      False\n",
      "CRSDepTime_Minute    False\n",
      "ArrTime_Hour         False\n",
      "ArrTime_Minute       False\n",
      "CRSArrTime_Hour      False\n",
      "CRSArrTime_Minute    False\n",
      "dtype: bool\n"
     ]
    },
    {
     "name": "stderr",
     "output_type": "stream",
     "text": [
      "/usr/local/lib/python3.11/site-packages/seaborn/_oldcore.py:1498: FutureWarning: is_categorical_dtype is deprecated and will be removed in a future version. Use isinstance(dtype, CategoricalDtype) instead\n",
      "  if pd.api.types.is_categorical_dtype(vector):\n",
      "/usr/local/lib/python3.11/site-packages/seaborn/_oldcore.py:1498: FutureWarning: is_categorical_dtype is deprecated and will be removed in a future version. Use isinstance(dtype, CategoricalDtype) instead\n",
      "  if pd.api.types.is_categorical_dtype(vector):\n",
      "/usr/local/lib/python3.11/site-packages/seaborn/_oldcore.py:1765: FutureWarning: unique with argument that is not not a Series, Index, ExtensionArray, or np.ndarray is deprecated and will raise in a future version.\n",
      "  order = pd.unique(vector)\n",
      "/usr/local/lib/python3.11/site-packages/seaborn/_oldcore.py:1498: FutureWarning: is_categorical_dtype is deprecated and will be removed in a future version. Use isinstance(dtype, CategoricalDtype) instead\n",
      "  if pd.api.types.is_categorical_dtype(vector):\n"
     ]
    },
    {
     "data": {
      "image/png": "[encoded data removed]",
      "text/plain": [
       "<Figure size 2000x500 with 1 Axes>"
      ]
     },
     "metadata": {},
     "output_type": "display_data"
    }
   ],
   "source": [
    "import seaborn as sns\n",
    "import matplotlib.pyplot as plt\n",
    "import numpy as np\n",
    "\n",
    "sns.set(style=\"darkgrid\")\n",
    "\n",
    "# Assuming you have already loaded your data into the `data_linreg` DataFrame\n",
    "cor_data = data_linreg.copy().select_dtypes([np.number])\n",
    "features = cor_data.columns\n",
    "\n",
    "# Fill missing values with the mean of each column\n",
    "for i in features:\n",
    "    cor_data[i].fillna(cor_data[i].mean(), inplace=True)\n",
    "\n",
    "# Check if there are any remaining missing values\n",
    "print(cor_data.isna().any())\n",
    "\n",
    "# Calculate correlations between features and the target variable\n",
    "correlations = {\n",
    "    feature: np.corrcoef(cor_data[feature], data_depdelay)[0][1]\n",
    "    for feature in features\n",
    "}\n",
    "\n",
    "# Sort the correlations in descending order\n",
    "sorted_correlations = sorted(correlations.items(), key=lambda x: x[1], reverse=True)\n",
    "features_order = [x[0] for x in sorted_correlations]\n",
    "correlations = [x[1] for x in sorted_correlations]\n",
    "\n",
    "# Create a bar plot to visualize correlations\n",
    "plt.figure(figsize=(20, 5))\n",
    "plot = sns.barplot(y=features_order, x=correlations, orient='h')\n",
    "plt.xlabel('Correlation Coefficient')\n",
    "plt.ylabel('Features')\n",
    "plt.title('Feature Correlations with data_depdelay')\n",
    "plt.show()\n"
   ]
  },
  {
   "cell_type": "markdown",
   "metadata": {},
   "source": [
    "**15. (1 балл)** Приведем данные к виду, пригодному для обучения линейных моделей. Для этого вещественные признаки надо отмасштабировать, а категориальные — привести к числовому виду. Также надо устранить пропуски в данных."
   ]
  },
  {
   "cell_type": "markdown",
   "metadata": {},
   "source": [
    "В первую очередь поймем, зачем необходимо применять масштабирование. Следующие ячейки с кодом построят гистограммы для 3 вещественных признаков выборки."
   ]
  },
  {
   "cell_type": "code",
   "execution_count": 115,
   "metadata": {},
   "outputs": [
    {
     "data": {
      "text/plain": [
       "<Axes: >"
      ]
     },
     "execution_count": 115,
     "metadata": {},
     "output_type": "execute_result"
    },
    {
     "data": {
      "image/png": "[encoded data removed]",
      "text/plain": [
       "<Figure size 640x480 with 1 Axes>"
      ]
     },
     "metadata": {},
     "output_type": "display_data"
    }
   ],
   "source": [
    "#X = datas.copy()\n",
    "X['DepTime_Hour'].hist(bins=20)"
   ]
  },
  {
   "cell_type": "code",
   "execution_count": 116,
   "metadata": {},
   "outputs": [
    {
     "data": {
      "text/plain": [
       "<Axes: >"
      ]
     },
     "execution_count": 116,
     "metadata": {},
     "output_type": "execute_result"
    },
    {
     "data": {
      "image/png": "[encoded data removed]",
      "text/plain": [
       "<Figure size 640x480 with 1 Axes>"
      ]
     },
     "metadata": {},
     "output_type": "display_data"
    }
   ],
   "source": [
    "X['TaxiIn'].hist(bins=20)"
   ]
  },
  {
   "cell_type": "code",
   "execution_count": 117,
   "metadata": {},
   "outputs": [
    {
     "data": {
      "text/plain": [
       "<Axes: >"
      ]
     },
     "execution_count": 117,
     "metadata": {},
     "output_type": "execute_result"
    },
    {
     "data": {
      "image/png": "[encoded data removed]",
      "text/plain": [
       "<Figure size 640x480 with 1 Axes>"
      ]
     },
     "metadata": {},
     "output_type": "display_data"
    }
   ],
   "source": [
    "X['FlightNum'].hist(bins=20)"
   ]
  },
  {
   "cell_type": "markdown",
   "metadata": {},
   "source": [
    "Какую проблему вы наблюдаете на этих графиках? Как масштабирование поможет её исправить?"
   ]
  },
  {
   "cell_type": "markdown",
   "metadata": {},
   "source": [
    "Масштабирование необходимо для избежания больших выходных значений. На трех представленных графиках мы наблюдаем проблему с несогласованностью масштабов (параметров), представленных в таблице. Это означает, что единицы измерения различны, и мы не можем провести сравнительный анализ трех графиков. После масштабирования признаки будут регуляризованы в равной степени."
   ]
  },
  {
   "cell_type": "markdown",
   "metadata": {},
   "source": [
    "Некоторые из признаков в нашем датасете являются категориальными. Типичным подходом к работе с ними является бинарное, или [one-hot-кодирование](https://en.wikipedia.org/wiki/One-hot).\n",
    "\n",
    "Реализуйте функцию transform_data, которая принимает на вход DataFrame с признаками и выполняет следующие шаги:\n",
    "1. Замена пропущенных значений на нули для вещественных признаков и на строки 'nan' для категориальных.\n",
    "2. Масштабирование вещественных признаков с помощью [StandardScaler](http://scikit-learn.org/stable/modules/generated/sklearn.preprocessing.StandardScaler.html).\n",
    "3. One-hot-кодирование категориальных признаков с помощью [DictVectorizer](http://scikit-learn.org/stable/modules/generated/sklearn.feature_extraction.DictVectorizer.html) или функции [pd.get_dummies](http://pandas.pydata.org/pandas-docs/stable/generated/pandas.get_dummies.html).\n",
    "\n",
    "Метод должен возвращать преобразованный DataFrame, который должна состоять из масштабированных вещественных признаков и закодированных категориальных (исходные признаки должны быть исключены из выборки)."
   ]
  },
  {
   "cell_type": "code",
   "execution_count": 118,
   "metadata": {},
   "outputs": [],
   "source": [
    "from sklearn.preprocessing import StandardScaler\n",
    "def transform_data(data):\n",
    "    # Your code here\n",
    "    \n",
    "    numeric_data = list(data.select_dtypes(np.number).columns)\n",
    "    data[numeric_data] = data[numeric_data].fillna(0)\n",
    "    scaler = StandardScaler()\n",
    "    data[numeric_data] = scaler.fit_transform(data[numeric_data])\n",
    "    categorical_data = list(data.select_dtypes(object).columns)\n",
    "    data[categorical_data] = data[categorical_data].fillna('nan')\n",
    "    temp = pd.get_dummies(data[categorical_data])\n",
    "    result_data = pd.concat([data, temp], axis = 1).drop(categorical_data, axis = 1)\n",
    "    return result_data"
   ]
  },
  {
   "cell_type": "markdown",
   "metadata": {},
   "source": [
    "Примените функцию transform_data к данным. Сколько признаков получилось после преобразования?"
   ]
  },
  {
   "cell_type": "code",
   "execution_count": 119,
   "metadata": {},
   "outputs": [
    {
     "name": "stdout",
     "output_type": "stream",
     "text": [
      "634\n"
     ]
    }
   ],
   "source": [
    "data = transform_data(data_linreg)\n",
    "print(data.columns.size)"
   ]
  },
  {
   "cell_type": "markdown",
   "metadata": {},
   "source": [
    "**16. (0.5 балла)** Разбейте выборку и вектор целевой переменной на обучение и контроль в отношении 70/30 (для этого можно использовать, например, функцию [train_test_split](http://scikit-learn.org/stable/modules/generated/sklearn.cross_validation.train_test_split.html)). "
   ]
  },
  {
   "cell_type": "code",
   "execution_count": 120,
   "metadata": {},
   "outputs": [],
   "source": [
    "from sklearn.model_selection import train_test_split\n",
    "X_train, X_test, y_train, y_test = train_test_split(data, data_depdelay, test_size = 0.3, random_state=42)"
   ]
  },
  {
   "cell_type": "markdown",
   "metadata": {},
   "source": [
    "### Scikit-learn\n",
    "\n",
    "<img src = \"https://pp.vk.me/c4534/u35727827/93547647/x_d31c4463.jpg\">\n",
    "Теперь, когда мы привели данные к пригодному виду, попробуем решить задачу при помощи метода наименьших квадратов. Напомним, что данный метод заключается в оптимизации функционала $MSE$:\n",
    "\n",
    "$$MSE(X, y) = \\frac{1}{l} \\sum_{i=1}^l (<w, x_i> - y_i)^2 \\to \\min_{w},$$\n",
    "\n",
    "где $\\{ (x_i, y_i ) \\}_{i=1}^l$ — обучающая выборка, состоящая из $l$ пар объект-ответ.\n",
    "\n",
    "Заметим, что решение данной задачи уже реализовано в модуле sklearn в виде класса [LinearRegression](http://scikit-learn.org/stable/modules/generated/sklearn.linear_model.LinearRegression.html#sklearn.linear_model.LinearRegression).\n",
    "\n",
    "**17. (0.5 балла)** Обучите линейную регрессию на 1000 объектах из обучающей выборки и выведите значения $MSE$ и $R^2$ на этой подвыборке и контрольной выборке (итого 4 различных числа). Проинтерпретируйте полученный результат — насколько качественные прогнозы строит полученная модель? Какие проблемы наблюдаются в модели?\n",
    "\n",
    "**Подсказка**: изучите значения полученных коэффициентов $w$, сохраненных в атрибуте coef_ объекта LinearRegression."
   ]
  },
  {
   "cell_type": "code",
   "execution_count": 170,
   "metadata": {},
   "outputs": [],
   "source": [
    "# Your code here\n",
    "from sklearn.linear_model import LinearRegression\n",
    "from sklearn.metrics import mean_squared_error, mean_absolute_error\n",
    "\n",
    "X_train_train, X_train_test, y_train_train, y_train_test = train_test_split(X_train, y_train, \n",
    "                                                                            train_size = 1000, random_state = 42)\n",
    "reg = LinearRegression().fit(X_train_train, y_train_train)"
   ]
  },
  {
   "cell_type": "code",
   "execution_count": 171,
   "metadata": {},
   "outputs": [
    {
     "name": "stdout",
     "output_type": "stream",
     "text": [
      "MSE подвыборки (train): 1.3546570322223074e-26\n",
      "R^2 подвыборки (train): 1.0\n"
     ]
    }
   ],
   "source": [
    "y_train_train_pred = reg.predict(X_train_train)\n",
    "print(\"MSE подвыборки (train):\", mean_squared_error(y_train_train, y_train_train_pred))\n",
    "print(\"R^2 подвыборки (train):\", reg.score(X_train_train, y_train_train))"
   ]
  },
  {
   "cell_type": "code",
   "execution_count": 172,
   "metadata": {},
   "outputs": [
    {
     "name": "stdout",
     "output_type": "stream",
     "text": [
      "MSE контрольной выборки (test): 61.25642686399954\n",
      "R^2 контрольной выборки (test): 0.9542065873265702\n"
     ]
    }
   ],
   "source": [
    "y_test_pred = reg.predict(X_test)\n",
    "print(\"MSE контрольной выборки (test):\", mean_squared_error(y_test, y_test_pred))\n",
    "print(\"R^2 контрольной выборки (test):\", reg.score(X_test, y_test))"
   ]
  },
  {
   "cell_type": "markdown",
   "metadata": {
    "collapsed": true,
    "jupyter": {
     "outputs_hidden": true
    }
   },
   "source": [
    "Для решения описанных вами в предыдущем пункте проблем используем L1- или L2-регуляризацию, тем самым получив Lasso и Ridge регрессии соответственно и изменив оптимизационную задачу одним из следующих образов:\n",
    "$$MSE_{L1}(X, y) = \\frac{1}{l} \\sum_{i=1}^l (<w, x_i> - y_i)^2 + \\alpha ||w||_1 \\to \\min_{w},$$\n",
    "$$MSE_{L2}(X, y) = \\frac{1}{l} \\sum_{i=1}^l (<w, x_i> - y_i)^2 + \\alpha ||w||_2^2 \\to \\min_{w},$$\n",
    "\n",
    "где $\\alpha$ — коэффициент регуляризации. Один из способов его подбора заключается в переборе некоторого количества значений и оценке качества на кросс-валидации для каждого из них, после чего выбирается значение, для которого было получено наилучшее качество."
   ]
  },
  {
   "cell_type": "code",
   "execution_count": 164,
   "metadata": {},
   "outputs": [],
   "source": [
    "from sklearn.linear_model import Ridge, Lasso, RidgeCV, LassoCV\n",
    "from sklearn.model_selection import GridSearchCV, cross_val_predict"
   ]
  },
  {
   "cell_type": "markdown",
   "metadata": {},
   "source": [
    "__18. (1 балл) __ Обучение линейной регрессии.\n",
    "\n",
    "\n",
    "\n",
    "Обучите линейную регрессию с $L_1$ (Lasso) и $L_2$ (Ridge) регуляризаторами (используйте параметры по умолчанию). Посмотрите, какое количество коэффициентов близко к 0 (степень близости к 0 определите сами из разумных пределов). Постройте график зависимости числа ненулевых коэффициентов от коэффицента регуляризации (перебирайте значения по логарифмической сетке от $10^{-3}$ до $10^3$). Согласуются ли результаты с вашими ожиданиями?"
   ]
  },
  {
   "cell_type": "code",
   "execution_count": 181,
   "metadata": {},
   "outputs": [
    {
     "data": {
      "image/png": "[encoded data removed]",
      "text/plain": [
       "<Figure size 1000x600 with 1 Axes>"
      ]
     },
     "metadata": {},
     "output_type": "display_data"
    }
   ],
   "source": [
    "import numpy as np\n",
    "from sklearn.linear_model import Lasso, Ridge\n",
    "import matplotlib.pyplot as plt\n",
    "\n",
    "# Generate sample data (replace with your own data)\n",
    "np.random.seed(0)\n",
    "X_train_train = np.random.rand(100, 10)  # Example: 100 samples, 10 features\n",
    "y_train_train = np.random.rand(100)\n",
    "\n",
    "# Initialize alpha values\n",
    "alphas = 10 ** np.linspace(-3, 3, 20)\n",
    "\n",
    "# Initialize lists to store the count of zero coefficients\n",
    "l_zeros = []\n",
    "r_zeros = []\n",
    "\n",
    "# Fit Lasso and Ridge models for different alpha values\n",
    "for alpha in alphas:\n",
    "    lasso = Lasso(alpha=alpha)\n",
    "    ridge = Ridge(alpha=alpha)\n",
    "    \n",
    "    lasso.fit(X_train_train, y_train_train)\n",
    "    ridge.fit(X_train_train, y_train_train)\n",
    "\n",
    "    lasso_zeros_num = list()\n",
    "    ridge_zeros_num = list()\n",
    "    \n",
    "    # Count the number of zero coefficients for each model\n",
    "    l_zeros.append(np.sum(np.absolute(lasso.coef_) < 10 ** (-7)))\n",
    "    r_zeros.append(np.sum(np.absolute(ridge.coef_) < 10 ** (-7)))\n",
    "\n",
    "# Plot the results\n",
    "plt.figure(figsize=(10, 6))\n",
    "plt.semilogx(alphas, l_zeros, label='Lasso', marker='o')\n",
    "plt.semilogx(alphas, r_zeros, label='Ridge', marker='o')\n",
    "plt.xlabel('Alpha (Regularization Strength)')\n",
    "plt.ylabel('Number of Zero Coefficients')\n",
    "plt.title('Effect of Regularization on Feature Selection')\n",
    "plt.legend()\n",
    "plt.grid(True)\n",
    "plt.show()\n"
   ]
  },
  {
   "cell_type": "code",
   "execution_count": 177,
   "metadata": {},
   "outputs": [
    {
     "name": "stdout",
     "output_type": "stream",
     "text": [
      "0 Lasso: 629\n",
      "0 Ridge: 286\n"
     ]
    }
   ],
   "source": [
    "lasso = Lasso()\n",
    "lasso = lasso.fit(X_train_train, y_train_train)\n",
    "ridge = Ridge()\n",
    "ridge = ridge.fit(X_train_train, y_train_train)\n",
    "\n",
    "print(\"0 Lasso:\", np.sum(np.absolute(lasso.coef_) < 10 ** (-10)))\n",
    "print(\"0 Ridge:\", np.sum(np.absolute(ridge.coef_) < 10 ** (-10)))"
   ]
  },
  {
   "cell_type": "markdown",
   "metadata": {},
   "source": [
    "Посчитайте для Ridge-регрессии следующие метрики: $RMSE$, $MAE$, $R^2$."
   ]
  },
  {
   "cell_type": "code",
   "execution_count": 157,
   "metadata": {},
   "outputs": [],
   "source": [
    "from sklearn.linear_model import Ridge\n",
    "from sklearn.metrics import mean_squared_error, mean_absolute_error"
   ]
  },
  {
   "cell_type": "code",
   "execution_count": 182,
   "metadata": {},
   "outputs": [
    {
     "ename": "NameError",
     "evalue": "name 'linreg' is not defined",
     "output_type": "error",
     "traceback": [
      "\u001b[0;31m---------------------------------------------------------------------------\u001b[0m",
      "\u001b[0;31mNameError\u001b[0m                                 Traceback (most recent call last)",
      "Cell \u001b[0;32mIn[182], line 9\u001b[0m\n\u001b[1;32m      6\u001b[0m     \u001b[38;5;28mprint\u001b[39m(\u001b[38;5;124m\"\u001b[39m\u001b[38;5;124mMAE:\u001b[39m\u001b[38;5;124m\"\u001b[39m, mean_absolute_error(y_test, y_test_pred))\n\u001b[1;32m      7\u001b[0m     \u001b[38;5;28mprint\u001b[39m(\u001b[38;5;124m\"\u001b[39m\u001b[38;5;124mR^2:\u001b[39m\u001b[38;5;124m\"\u001b[39m, ridge_model\u001b[38;5;241m.\u001b[39mscore(X_test, y_test))\n\u001b[0;32m----> 9\u001b[0m \u001b[43mRidge_metrics\u001b[49m\u001b[43m(\u001b[49m\u001b[43mX_train_train\u001b[49m\u001b[43m,\u001b[49m\u001b[43m \u001b[49m\u001b[43my_train_train\u001b[49m\u001b[43m,\u001b[49m\u001b[43m \u001b[49m\u001b[43mX_test\u001b[49m\u001b[43m,\u001b[49m\u001b[43m \u001b[49m\u001b[43my_test\u001b[49m\u001b[43m)\u001b[49m\n",
      "Cell \u001b[0;32mIn[182], line 4\u001b[0m, in \u001b[0;36mRidge_metrics\u001b[0;34m(X_train, y_train, X_test, y_test, alpha)\u001b[0m\n\u001b[1;32m      2\u001b[0m ridge_model \u001b[38;5;241m=\u001b[39m Ridge(alpha \u001b[38;5;241m=\u001b[39m alpha)\n\u001b[1;32m      3\u001b[0m ridge_model\u001b[38;5;241m.\u001b[39mfit(X_train, y_train)\n\u001b[0;32m----> 4\u001b[0m y_test_pred \u001b[38;5;241m=\u001b[39m \u001b[43mlinreg\u001b[49m\u001b[38;5;241m.\u001b[39mpredict(X_test)\n\u001b[1;32m      5\u001b[0m \u001b[38;5;28mprint\u001b[39m(\u001b[38;5;124m\"\u001b[39m\u001b[38;5;124mRMSE:\u001b[39m\u001b[38;5;124m\"\u001b[39m, mean_squared_error(y_test, y_test_pred, squared \u001b[38;5;241m=\u001b[39m \u001b[38;5;28;01mFalse\u001b[39;00m))\n\u001b[1;32m      6\u001b[0m \u001b[38;5;28mprint\u001b[39m(\u001b[38;5;124m\"\u001b[39m\u001b[38;5;124mMAE:\u001b[39m\u001b[38;5;124m\"\u001b[39m, mean_absolute_error(y_test, y_test_pred))\n",
      "\u001b[0;31mNameError\u001b[0m: name 'linreg' is not defined"
     ]
    }
   ],
   "source": [
    "def Ridge_metrics(X_train, y_train, X_test, y_test, alpha = 1.0):\n",
    "    ridge_model = Ridge(alpha = alpha)\n",
    "    ridge_model.fit(X_train, y_train)\n",
    "    y_test_pred = linreg.predict(X_test)\n",
    "    print(\"RMSE:\", mean_squared_error(y_test, y_test_pred, squared = False))\n",
    "    print(\"MAE:\", mean_absolute_error(y_test, y_test_pred))\n",
    "    print(\"R^2:\", ridge_model.score(X_test, y_test))\n",
    "    \n",
    "Ridge_metrics(X_train_train, y_train_train, X_test, y_test)"
   ]
  },
  {
   "cell_type": "markdown",
   "metadata": {},
   "source": [
    "Подберите на обучающей выборке для Ridge-регрессии коэффициент регуляризации (перебирайте значения по логарифмической сетке от $10^{-3}$ до $10^3$) для каждой из метрик при помощи кросс-валидации c 5 фолдами на тех же 1000 объектах. Для этого воспользуйтесь GridSearchCV и KFold из sklearn. Постройте графики зависимости фукнции потерь от коэффициента регуляризации. Посчитайте те же метрики снова. Заметно ли изменилось качество?\n",
    "\n",
    "Для выполнения данного задания вам могут понадобиться реализованные в библиотеке объекты [LassoCV](http://scikit-learn.org/stable/modules/generated/sklearn.linear_model.LassoCV.html), [RidgeCV](http://scikit-learn.org/stable/modules/generated/sklearn.linear_model.RidgeCV.html) и [KFold](http://scikit-learn.org/stable/modules/generated/sklearn.cross_validation.KFold.html)."
   ]
  },
  {
   "cell_type": "code",
   "execution_count": 159,
   "metadata": {},
   "outputs": [],
   "source": [
    "# Your code here\n",
    "from sklearn.model_selection import GridSearchCV"
   ]
  },
  {
   "cell_type": "code",
   "execution_count": null,
   "metadata": {},
   "outputs": [],
   "source": []
  },
  {
   "cell_type": "markdown",
   "metadata": {
    "collapsed": true,
    "jupyter": {
     "outputs_hidden": true
    }
   },
   "source": [
    "__19. (0.5 балла)__ Поиск объектов-выбросов\n",
    "\n",
    "\n",
    "Как известно, MSE сильно штрафует за большие ошибки на объектах-выбросах. С помощью cross_val_predict сделайте Out-of-Fold предсказания для обучающей выборки. Посчитайте ошибки и посмотрите на их распределение (plt.hist). Что вы видите?"
   ]
  },
  {
   "cell_type": "code",
   "execution_count": 186,
   "metadata": {},
   "outputs": [],
   "source": [
    "# model = Ridge()\n",
    "# y_pred = cross_val_predict(model, X_test, y_test)\n",
    "# error = (y_pred - y_test) ** 2\n",
    "# plt.hist(error, bins = 25)\n",
    "# plt.yscale(\"log\")\n",
    "# plt.title(\"Error histogram\")"
   ]
  },
  {
   "cell_type": "code",
   "execution_count": null,
   "metadata": {},
   "outputs": [],
   "source": []
  }
 ],
 "metadata": {
  "kernelspec": {
   "display_name": "Python 3 (ipykernel)",
   "language": "python",
   "name": "python3"
  },
  "language_info": {
   "codemirror_mode": {
    "name": "ipython",
    "version": 3
   },
   "file_extension": ".py",
   "mimetype": "text/x-python",
   "name": "python",
   "nbconvert_exporter": "python",
   "pygments_lexer": "ipython3",
   "version": "3.11.5"
  }
 },
 "nbformat": 4,
 "nbformat_minor": 4
}
